{
 "cells": [
  {
   "cell_type": "markdown",
   "metadata": {},
   "source": [
    "# Tutorial\n",
    "Going through the Julia tutorial on juliaacademy.com."
   ]
  },
  {
   "cell_type": "markdown",
   "metadata": {},
   "source": [
    "## Variables and Printing"
   ]
  },
  {
   "cell_type": "code",
   "execution_count": 1,
   "metadata": {},
   "outputs": [
    {
     "name": "stdout",
     "output_type": "stream",
     "text": [
      "Hello World\n"
     ]
    }
   ],
   "source": [
    "println(\"Hello World\")"
   ]
  },
  {
   "cell_type": "code",
   "execution_count": 3,
   "metadata": {},
   "outputs": [
    {
     "name": "stdout",
     "output_type": "stream",
     "text": [
      "3.1415\n",
      "Float64\n",
      "Pie\n",
      "String\n"
     ]
    }
   ],
   "source": [
    "# one-line comment\n",
    "#= multi-\n",
    "line\n",
    "comment =#\n",
    "\n",
    "pi = 3.1415\n",
    "println(pi)\n",
    "println(typeof(pi))\n",
    "\n",
    "pi = \"Pie\"\n",
    "\n",
    "println(pi)\n",
    "println(typeof(pi))"
   ]
  },
  {
   "cell_type": "markdown",
   "metadata": {},
   "source": [
    "## Strings"
   ]
  },
  {
   "cell_type": "code",
   "execution_count": 7,
   "metadata": {},
   "outputs": [
    {
     "data": {
      "text/plain": [
       "Char"
      ]
     },
     "execution_count": 7,
     "metadata": {},
     "output_type": "execute_result"
    }
   ],
   "source": [
    "s1 = \"I am a string.\"\n",
    "s2 = \"\"\"I am also a \"string\".\"\"\"\n",
    "\n",
    "# single quotation marks denote a char, not a string\n",
    "typeof('a')"
   ]
  },
  {
   "cell_type": "code",
   "execution_count": 9,
   "metadata": {},
   "outputs": [
    {
     "name": "stdout",
     "output_type": "stream",
     "text": [
      "Hello, my name is Leo. I have 20 appendages.\n"
     ]
    }
   ],
   "source": [
    "#= a $-sign can be used to insert other variables into a string,\n",
    "or evaluate expressions within a string =#\n",
    "\n",
    "name = \"Leo\"\n",
    "num_fingers = 10\n",
    "num_toes = 10\n",
    "\n",
    "println(\"Hello, my name is $name. I have $(num_fingers+num_toes) digits.\")"
   ]
  },
  {
   "cell_type": "code",
   "execution_count": 12,
   "metadata": {},
   "outputs": [
    {
     "name": "stdout",
     "output_type": "stream",
     "text": [
      "I have 10 digits.\n",
      "I have 10 digits.\n"
     ]
    }
   ],
   "source": [
    "# There are muliple ways to concatenate strings\n",
    "\n",
    "println(string(\"I have \", 10, \" digits.\"))\n",
    "println(\"I have 10\"*\" digits.\")"
   ]
  },
  {
   "cell_type": "markdown",
   "metadata": {},
   "source": [
    "## Data Structures"
   ]
  },
  {
   "cell_type": "code",
   "execution_count": 20,
   "metadata": {},
   "outputs": [
    {
     "data": {
      "text/plain": [
       "Dict{String,Int64} with 2 entries:\n",
       "  \"James\" => 456\n",
       "  \"Juan\"  => 789"
      ]
     },
     "execution_count": 20,
     "metadata": {},
     "output_type": "execute_result"
    }
   ],
   "source": [
    "# setting up a dictionary\n",
    "mydict = Dict(\"Jenny\" => 123, \"James\" => 456)\n",
    "mydict[\"Juan\"] = 789\n",
    "\n",
    "# deleting a specific value\n",
    "pop!(mydict, \"Jenny\")\n",
    "mydict\n",
    "\n",
    "# calling dicts has to be done by key, as they are unordered, positional indexing will not work"
   ]
  },
  {
   "cell_type": "code",
   "execution_count": 24,
   "metadata": {},
   "outputs": [
    {
     "data": {
      "text/plain": [
       "\"b\""
      ]
     },
     "execution_count": 24,
     "metadata": {},
     "output_type": "execute_result"
    }
   ],
   "source": [
    "# setting up a tuple, julia is 1-indexed\n",
    "mytuple = (\"a\", \"b\", \"c\")\n",
    "mytuple[1]\n",
    "\n",
    "# tuples are immutable, updating only works via re-definition"
   ]
  },
  {
   "cell_type": "code",
   "execution_count": 38,
   "metadata": {},
   "outputs": [
    {
     "data": {
      "text/plain": [
       "4×3×2 Array{Float64,3}:\n",
       "[:, :, 1] =\n",
       " 0.465985  0.966172   0.135929\n",
       " 0.414777  0.0558579  0.178605\n",
       " 0.441664  0.430494   0.766781\n",
       " 0.828035  0.788755   0.98392\n",
       "\n",
       "[:, :, 2] =\n",
       " 0.723536   0.516805  0.473345\n",
       " 0.688645   0.60558   0.200878\n",
       " 0.440649   0.252553  0.223645\n",
       " 0.0113139  0.809792  0.657483"
      ]
     },
     "execution_count": 38,
     "metadata": {},
     "output_type": "execute_result"
    }
   ],
   "source": [
    "# setting up an array, they are mutable and ordered, they can be mixed\n",
    "myarray = [\"a\", \"b\", \"c\"]\n",
    "myotherarray = [1,2,3]\n",
    "mymixedarray = [\"a\", 2, 'c']\n",
    "\n",
    "mymixedarray[3] = \"cstring\"\n",
    "\n",
    "# items can be added and removed at the end of the array with push! and pop!\n",
    "pop!(mymixedarray)\n",
    "push!(mymixedarray, \"pushedcstring\")\n",
    "\n",
    "#= arrays can have arbitrarily many dimensions and contain \n",
    "any combination elementary and composite data types =#\n",
    "mynestedarray = [[1, 2, 3], [\"1\", \"2\", \"3\"], [1, \"2\", '3']]\n",
    "\n",
    "# there are many functions to initialise certain array structures \n",
    "myrandarray = rand(4, 3, 2)"
   ]
  },
  {
   "cell_type": "markdown",
   "metadata": {},
   "source": [
    "## Loops"
   ]
  },
  {
   "cell_type": "code",
   "execution_count": 53,
   "metadata": {},
   "outputs": [
    {
     "data": {
      "text/plain": [
       "1×1 Array{Int64,2}:\n",
       " 2"
      ]
     },
     "metadata": {},
     "output_type": "display_data"
    },
    {
     "data": {
      "text/plain": [
       "2×2 Array{Int64,2}:\n",
       " 2  3\n",
       " 3  4"
      ]
     },
     "metadata": {},
     "output_type": "display_data"
    },
    {
     "data": {
      "text/plain": [
       "3×3 Array{Int64,2}:\n",
       " 2  3  4\n",
       " 3  4  5\n",
       " 4  5  6"
      ]
     },
     "metadata": {},
     "output_type": "display_data"
    },
    {
     "data": {
      "text/plain": [
       "4×4 Array{Int64,2}:\n",
       " 2  3  4  5\n",
       " 3  4  5  6\n",
       " 4  5  6  7\n",
       " 5  6  7  8"
      ]
     },
     "metadata": {},
     "output_type": "display_data"
    },
    {
     "data": {
      "text/plain": [
       "5×5 Array{Int64,2}:\n",
       " 2  3  4  5   6\n",
       " 3  4  5  6   7\n",
       " 4  5  6  7   8\n",
       " 5  6  7  8   9\n",
       " 6  7  8  9  10"
      ]
     },
     "metadata": {},
     "output_type": "display_data"
    },
    {
     "data": {
      "text/plain": [
       "6×6 Array{Int64,2}:\n",
       " 2  3  4   5   6   7\n",
       " 3  4  5   6   7   8\n",
       " 4  5  6   7   8   9\n",
       " 5  6  7   8   9  10\n",
       " 6  7  8   9  10  11\n",
       " 7  8  9  10  11  12"
      ]
     },
     "metadata": {},
     "output_type": "display_data"
    },
    {
     "data": {
      "text/plain": [
       "7×7 Array{Int64,2}:\n",
       " 2  3   4   5   6   7   8\n",
       " 3  4   5   6   7   8   9\n",
       " 4  5   6   7   8   9  10\n",
       " 5  6   7   8   9  10  11\n",
       " 6  7   8   9  10  11  12\n",
       " 7  8   9  10  11  12  13\n",
       " 8  9  10  11  12  13  14"
      ]
     },
     "metadata": {},
     "output_type": "display_data"
    },
    {
     "data": {
      "text/plain": [
       "8×8 Array{Int64,2}:\n",
       " 2   3   4   5   6   7   8   9\n",
       " 3   4   5   6   7   8   9  10\n",
       " 4   5   6   7   8   9  10  11\n",
       " 5   6   7   8   9  10  11  12\n",
       " 6   7   8   9  10  11  12  13\n",
       " 7   8   9  10  11  12  13  14\n",
       " 8   9  10  11  12  13  14  15\n",
       " 9  10  11  12  13  14  15  16"
      ]
     },
     "metadata": {},
     "output_type": "display_data"
    },
    {
     "data": {
      "text/plain": [
       "9×9 Array{Int64,2}:\n",
       "  2   3   4   5   6   7   8   9  10\n",
       "  3   4   5   6   7   8   9  10  11\n",
       "  4   5   6   7   8   9  10  11  12\n",
       "  5   6   7   8   9  10  11  12  13\n",
       "  6   7   8   9  10  11  12  13  14\n",
       "  7   8   9  10  11  12  13  14  15\n",
       "  8   9  10  11  12  13  14  15  16\n",
       "  9  10  11  12  13  14  15  16  17\n",
       " 10  11  12  13  14  15  16  17  18"
      ]
     },
     "metadata": {},
     "output_type": "display_data"
    },
    {
     "data": {
      "text/plain": [
       "10×10 Array{Int64,2}:\n",
       "  2   3   4   5   6   7   8   9  10  11\n",
       "  3   4   5   6   7   8   9  10  11  12\n",
       "  4   5   6   7   8   9  10  11  12  13\n",
       "  5   6   7   8   9  10  11  12  13  14\n",
       "  6   7   8   9  10  11  12  13  14  15\n",
       "  7   8   9  10  11  12  13  14  15  16\n",
       "  8   9  10  11  12  13  14  15  16  17\n",
       "  9  10  11  12  13  14  15  16  17  18\n",
       " 10  11  12  13  14  15  16  17  18  19\n",
       " 11  12  13  14  15  16  17  18  19  20"
      ]
     },
     "metadata": {},
     "output_type": "display_data"
    },
    {
     "name": "stdout",
     "output_type": "stream",
     "text": [
      "The current letter is A\n",
      "The current letter is B\n",
      "The current letter is C\n",
      "\n",
      "The current letter is A\n",
      "The current letter is B\n",
      "The current letter is C\n"
     ]
    }
   ],
   "source": [
    "# Julia supports while-loops\n",
    "alphabet = [\"A\", \"B\", \"C\"]\n",
    "\n",
    "i = 1\n",
    "while i <= length(alphabet)\n",
    "    println(\"The current letter is $(alphabet[i])\")\n",
    "    i += 1\n",
    "end\n",
    "\n",
    "println(\"\")\n",
    "\n",
    "# and for-loops\n",
    "\n",
    "for letter in alphabet\n",
    "    println(\"The current letter is $letter\")\n",
    "end\n",
    "\n",
    "# both loop types can be nested\n",
    "m, n = 5, 5\n",
    "A = zeros(m, n)\n",
    "\n",
    "for i in 1:m, j in 1:n\n",
    "        A[i, j] = i + j\n",
    "end\n",
    "\n",
    "# but typically nested loops are better expressed through array comprehensions \n",
    "B = [i + j for i in 1:m, j in 1:n]\n",
    "\n",
    "# it is also possible to nest comprehensions in for loops\n",
    "\n",
    "for n in 1:10\n",
    "    C = [i + j for i in 1:n, j in 1:n]\n",
    "    display(C)\n",
    "end"
   ]
  },
  {
   "cell_type": "markdown",
   "metadata": {},
   "source": [
    "## Conditionals"
   ]
  },
  {
   "cell_type": "code",
   "execution_count": 60,
   "metadata": {},
   "outputs": [
    {
     "name": "stdout",
     "output_type": "stream",
     "text": [
      "2\n"
     ]
    }
   ],
   "source": [
    "# conditional statements mirror Python syntax\n",
    "x = 1\n",
    "y = 2\n",
    "\n",
    "if x > y\n",
    "    x\n",
    "else\n",
    "    y\n",
    "end\n",
    "\n",
    "# less verbosely, one can also use a ternaty operator\n",
    "(x > y) ? x : y\n",
    "    \n",
    "# one can also play with the AND operators sequential evaluation\n",
    "(x > y) && println(x)\n",
    "(x < y) && println(y)"
   ]
  },
  {
   "cell_type": "markdown",
   "metadata": {},
   "source": [
    "## Functions"
   ]
  },
  {
   "cell_type": "code",
   "execution_count": null,
   "metadata": {},
   "outputs": [],
   "source": []
  }
 ],
 "metadata": {
  "kernelspec": {
   "display_name": "Julia 1.5.3",
   "language": "julia",
   "name": "julia-1.5"
  },
  "language_info": {
   "file_extension": ".jl",
   "mimetype": "application/julia",
   "name": "julia",
   "version": "1.5.3"
  }
 },
 "nbformat": 4,
 "nbformat_minor": 2
}
